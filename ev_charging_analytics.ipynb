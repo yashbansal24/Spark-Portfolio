{
 "cells": [
  {
   "cell_type": "code",
   "execution_count": null,
   "metadata": {
    "vscode": {
     "languageId": "plaintext"
    }
   },
   "outputs": [],
   "source": [
    "# Import necessary libraries\n",
    "from pyspark.sql import SparkSession\n",
    "from pyspark.sql.functions import col, explode, from_json, lit, avg, sum as _sum\n",
    "from pyspark.sql.types import StructType, StructField, StringType, ArrayType, MapType, DoubleType"
   ]
  },
  {
   "cell_type": "code",
   "execution_count": null,
   "metadata": {
    "vscode": {
     "languageId": "plaintext"
    }
   },
   "outputs": [],
   "source": [
    "\n",
    "# Initialize Spark session\n",
    "spark = SparkSession.builder \\\n",
    "    .appName(\"Charger Data Analysis\") \\\n",
    "    .getOrCreate()\n",
    "\n"
   ]
  },
  {
   "cell_type": "code",
   "execution_count": null,
   "metadata": {
    "vscode": {
     "languageId": "plaintext"
    }
   },
   "outputs": [],
   "source": [
    "# Load the dataset\n",
    "# Replace 'path_to_file.csv' with your dataset file path\n",
    "data_path = \"path_to_your_dataset.csv\"\n",
    "data = spark.read.option(\"header\", \"true\").csv(data_path)"
   ]
  },
  {
   "cell_type": "code",
   "execution_count": null,
   "metadata": {
    "vscode": {
     "languageId": "plaintext"
    }
   },
   "outputs": [],
   "source": [
    "\n",
    "# Sample schema for the \"charging_activity\" column (modify as per your dataset's exact format)\n",
    "charging_activity_schema = ArrayType(\n",
    "    StructType([\n",
    "        StructField(\"M\", StructType([\n",
    "            StructField(\"startTime\", StructType([StructField(\"S\", StringType())])),\n",
    "            StructField(\"endTime\", StructType([StructField(\"S\", StringType())])),\n",
    "            StructField(\"status\", StructType([StructField(\"S\", StringType())]))\n",
    "        ]))\n",
    "    ])\n",
    ")\n",
    "\n"
   ]
  },
  {
   "cell_type": "code",
   "execution_count": null,
   "metadata": {
    "vscode": {
     "languageId": "plaintext"
    }
   },
   "outputs": [],
   "source": [
    "# Sample schema for the \"energy_report\" column (modify as per your dataset's exact format)\n",
    "energy_report_schema = StructType([\n",
    "    StructField(\"amount\", StructType([StructField(\"N\", StringType())])),\n",
    "    StructField(\"currency\", StructType([StructField(\"S\", StringType())]))\n",
    "])"
   ]
  },
  {
   "cell_type": "code",
   "execution_count": null,
   "metadata": {
    "vscode": {
     "languageId": "plaintext"
    }
   },
   "outputs": [],
   "source": [
    "\n",
    "# Parse charging_activity column\n",
    "data = data.withColumn(\"charging_activity\", from_json(col(\"charging_activity\"), charging_activity_schema))\n"
   ]
  },
  {
   "cell_type": "code",
   "execution_count": null,
   "metadata": {
    "vscode": {
     "languageId": "plaintext"
    }
   },
   "outputs": [],
   "source": [
    "\n",
    "# Explode charging_activity to calculate charging times\n",
    "charging_data = data.select(\n",
    "    col(\"PK\"),\n",
    "    col(\"SK\"),\n",
    "    explode(col(\"charging_activity\")).alias(\"activity\")\n",
    ").select(\n",
    "    col(\"PK\"),\n",
    "    col(\"SK\"),\n",
    "    col(\"activity.M.startTime.S\").alias(\"startTime\"),\n",
    "    col(\"activity.M.endTime.S\").alias(\"endTime\"),\n",
    "    col(\"activity.M.status.S\").alias(\"status\")\n",
    ")\n"
   ]
  },
  {
   "cell_type": "code",
   "execution_count": null,
   "metadata": {
    "vscode": {
     "languageId": "plaintext"
    }
   },
   "outputs": [],
   "source": [
    "# Filter only \"Charging\" status and calculate charging durations\n",
    "from pyspark.sql.functions import unix_timestamp\n",
    "\n",
    "charging_data = charging_data.filter(charging_data.status == \"Charging\")\n",
    "charging_data = charging_data.withColumn(\"startTime\", unix_timestamp(col(\"startTime\"))) \\\n",
    "    .withColumn(\"endTime\", unix_timestamp(col(\"endTime\"))) \\\n",
    "    .withColumn(\"charging_duration\", (col(\"endTime\") - col(\"startTime\")) / 60)  # Duration in minutes\n"
   ]
  },
  {
   "cell_type": "code",
   "execution_count": null,
   "metadata": {
    "vscode": {
     "languageId": "plaintext"
    }
   },
   "outputs": [],
   "source": [
    "\n",
    "# Calculate average charging duration\n",
    "avg_charging_time = charging_data.select(avg(\"charging_duration\").alias(\"average_charging_time\")).collect()[0][\"average_charging_time\"]\n"
   ]
  },
  {
   "cell_type": "code",
   "execution_count": null,
   "metadata": {
    "vscode": {
     "languageId": "plaintext"
    }
   },
   "outputs": [],
   "source": [
    "# Parse energy_report column for revenue calculation\n",
    "data = data.withColumn(\"energy_report\", from_json(col(\"energy_report\"), energy_report_schema))\n",
    "data = data.withColumn(\"revenue\", col(\"energy_report.amount.N\").cast(DoubleType()))"
   ]
  },
  {
   "cell_type": "code",
   "execution_count": null,
   "metadata": {
    "vscode": {
     "languageId": "plaintext"
    }
   },
   "outputs": [],
   "source": [
    "\n",
    "# Calculate total revenue\n",
    "total_revenue = data.select(_sum(\"revenue\").alias(\"total_revenue\")).collect()[0][\"total_revenue\"]"
   ]
  },
  {
   "cell_type": "code",
   "execution_count": null,
   "metadata": {
    "vscode": {
     "languageId": "plaintext"
    }
   },
   "outputs": [],
   "source": [
    "\n",
    "# Display results\n",
    "print(f\"Average Charging Time: {avg_charging_time:.2f} minutes\")\n",
    "print(f\"Total Revenue Earned: ${total_revenue:.2f}\")"
   ]
  }
 ],
 "metadata": {
  "language_info": {
   "name": "python"
  }
 },
 "nbformat": 4,
 "nbformat_minor": 2
}
